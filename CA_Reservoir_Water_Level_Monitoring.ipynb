{
  "nbformat": 4,
  "nbformat_minor": 0,
  "metadata": {
    "colab": {
      "provenance": [],
      "authorship_tag": "ABX9TyN9yZZhlyYkg3/YBN+C6oo3",
      "include_colab_link": true
    },
    "kernelspec": {
      "name": "python3",
      "display_name": "Python 3"
    },
    "language_info": {
      "name": "python"
    }
  },
  "cells": [
    {
      "cell_type": "markdown",
      "metadata": {
        "id": "view-in-github",
        "colab_type": "text"
      },
      "source": [
        "<a href=\"https://colab.research.google.com/github/subhashpolisetti/MQTT-Reservoir-Data-Pipeline/blob/main/CA_Reservoir_Water_Level_Monitoring.ipynb\" target=\"_parent\"><img src=\"https://colab.research.google.com/assets/colab-badge.svg\" alt=\"Open In Colab\"/></a>"
      ]
    },
    {
      "cell_type": "code",
      "execution_count": 1,
      "metadata": {
        "colab": {
          "base_uri": "https://localhost:8080/",
          "height": 142
        },
        "id": "qeSu_RziJbb9",
        "outputId": "4fec27b8-e305-4e7d-faf7-e14ffd08a4c7"
      },
      "outputs": [
        {
          "output_type": "display_data",
          "data": {
            "text/plain": [
              "<IPython.core.display.HTML object>"
            ],
            "text/html": [
              "\n",
              "     <input type=\"file\" id=\"files-8296e1cd-066f-47d9-911f-f5338323804c\" name=\"files[]\" multiple disabled\n",
              "        style=\"border:none\" />\n",
              "     <output id=\"result-8296e1cd-066f-47d9-911f-f5338323804c\">\n",
              "      Upload widget is only available when the cell has been executed in the\n",
              "      current browser session. Please rerun this cell to enable.\n",
              "      </output>\n",
              "      <script>// Copyright 2017 Google LLC\n",
              "//\n",
              "// Licensed under the Apache License, Version 2.0 (the \"License\");\n",
              "// you may not use this file except in compliance with the License.\n",
              "// You may obtain a copy of the License at\n",
              "//\n",
              "//      http://www.apache.org/licenses/LICENSE-2.0\n",
              "//\n",
              "// Unless required by applicable law or agreed to in writing, software\n",
              "// distributed under the License is distributed on an \"AS IS\" BASIS,\n",
              "// WITHOUT WARRANTIES OR CONDITIONS OF ANY KIND, either express or implied.\n",
              "// See the License for the specific language governing permissions and\n",
              "// limitations under the License.\n",
              "\n",
              "/**\n",
              " * @fileoverview Helpers for google.colab Python module.\n",
              " */\n",
              "(function(scope) {\n",
              "function span(text, styleAttributes = {}) {\n",
              "  const element = document.createElement('span');\n",
              "  element.textContent = text;\n",
              "  for (const key of Object.keys(styleAttributes)) {\n",
              "    element.style[key] = styleAttributes[key];\n",
              "  }\n",
              "  return element;\n",
              "}\n",
              "\n",
              "// Max number of bytes which will be uploaded at a time.\n",
              "const MAX_PAYLOAD_SIZE = 100 * 1024;\n",
              "\n",
              "function _uploadFiles(inputId, outputId) {\n",
              "  const steps = uploadFilesStep(inputId, outputId);\n",
              "  const outputElement = document.getElementById(outputId);\n",
              "  // Cache steps on the outputElement to make it available for the next call\n",
              "  // to uploadFilesContinue from Python.\n",
              "  outputElement.steps = steps;\n",
              "\n",
              "  return _uploadFilesContinue(outputId);\n",
              "}\n",
              "\n",
              "// This is roughly an async generator (not supported in the browser yet),\n",
              "// where there are multiple asynchronous steps and the Python side is going\n",
              "// to poll for completion of each step.\n",
              "// This uses a Promise to block the python side on completion of each step,\n",
              "// then passes the result of the previous step as the input to the next step.\n",
              "function _uploadFilesContinue(outputId) {\n",
              "  const outputElement = document.getElementById(outputId);\n",
              "  const steps = outputElement.steps;\n",
              "\n",
              "  const next = steps.next(outputElement.lastPromiseValue);\n",
              "  return Promise.resolve(next.value.promise).then((value) => {\n",
              "    // Cache the last promise value to make it available to the next\n",
              "    // step of the generator.\n",
              "    outputElement.lastPromiseValue = value;\n",
              "    return next.value.response;\n",
              "  });\n",
              "}\n",
              "\n",
              "/**\n",
              " * Generator function which is called between each async step of the upload\n",
              " * process.\n",
              " * @param {string} inputId Element ID of the input file picker element.\n",
              " * @param {string} outputId Element ID of the output display.\n",
              " * @return {!Iterable<!Object>} Iterable of next steps.\n",
              " */\n",
              "function* uploadFilesStep(inputId, outputId) {\n",
              "  const inputElement = document.getElementById(inputId);\n",
              "  inputElement.disabled = false;\n",
              "\n",
              "  const outputElement = document.getElementById(outputId);\n",
              "  outputElement.innerHTML = '';\n",
              "\n",
              "  const pickedPromise = new Promise((resolve) => {\n",
              "    inputElement.addEventListener('change', (e) => {\n",
              "      resolve(e.target.files);\n",
              "    });\n",
              "  });\n",
              "\n",
              "  const cancel = document.createElement('button');\n",
              "  inputElement.parentElement.appendChild(cancel);\n",
              "  cancel.textContent = 'Cancel upload';\n",
              "  const cancelPromise = new Promise((resolve) => {\n",
              "    cancel.onclick = () => {\n",
              "      resolve(null);\n",
              "    };\n",
              "  });\n",
              "\n",
              "  // Wait for the user to pick the files.\n",
              "  const files = yield {\n",
              "    promise: Promise.race([pickedPromise, cancelPromise]),\n",
              "    response: {\n",
              "      action: 'starting',\n",
              "    }\n",
              "  };\n",
              "\n",
              "  cancel.remove();\n",
              "\n",
              "  // Disable the input element since further picks are not allowed.\n",
              "  inputElement.disabled = true;\n",
              "\n",
              "  if (!files) {\n",
              "    return {\n",
              "      response: {\n",
              "        action: 'complete',\n",
              "      }\n",
              "    };\n",
              "  }\n",
              "\n",
              "  for (const file of files) {\n",
              "    const li = document.createElement('li');\n",
              "    li.append(span(file.name, {fontWeight: 'bold'}));\n",
              "    li.append(span(\n",
              "        `(${file.type || 'n/a'}) - ${file.size} bytes, ` +\n",
              "        `last modified: ${\n",
              "            file.lastModifiedDate ? file.lastModifiedDate.toLocaleDateString() :\n",
              "                                    'n/a'} - `));\n",
              "    const percent = span('0% done');\n",
              "    li.appendChild(percent);\n",
              "\n",
              "    outputElement.appendChild(li);\n",
              "\n",
              "    const fileDataPromise = new Promise((resolve) => {\n",
              "      const reader = new FileReader();\n",
              "      reader.onload = (e) => {\n",
              "        resolve(e.target.result);\n",
              "      };\n",
              "      reader.readAsArrayBuffer(file);\n",
              "    });\n",
              "    // Wait for the data to be ready.\n",
              "    let fileData = yield {\n",
              "      promise: fileDataPromise,\n",
              "      response: {\n",
              "        action: 'continue',\n",
              "      }\n",
              "    };\n",
              "\n",
              "    // Use a chunked sending to avoid message size limits. See b/62115660.\n",
              "    let position = 0;\n",
              "    do {\n",
              "      const length = Math.min(fileData.byteLength - position, MAX_PAYLOAD_SIZE);\n",
              "      const chunk = new Uint8Array(fileData, position, length);\n",
              "      position += length;\n",
              "\n",
              "      const base64 = btoa(String.fromCharCode.apply(null, chunk));\n",
              "      yield {\n",
              "        response: {\n",
              "          action: 'append',\n",
              "          file: file.name,\n",
              "          data: base64,\n",
              "        },\n",
              "      };\n",
              "\n",
              "      let percentDone = fileData.byteLength === 0 ?\n",
              "          100 :\n",
              "          Math.round((position / fileData.byteLength) * 100);\n",
              "      percent.textContent = `${percentDone}% done`;\n",
              "\n",
              "    } while (position < fileData.byteLength);\n",
              "  }\n",
              "\n",
              "  // All done.\n",
              "  yield {\n",
              "    response: {\n",
              "      action: 'complete',\n",
              "    }\n",
              "  };\n",
              "}\n",
              "\n",
              "scope.google = scope.google || {};\n",
              "scope.google.colab = scope.google.colab || {};\n",
              "scope.google.colab._files = {\n",
              "  _uploadFiles,\n",
              "  _uploadFilesContinue,\n",
              "};\n",
              "})(self);\n",
              "</script> "
            ]
          },
          "metadata": {}
        },
        {
          "output_type": "stream",
          "name": "stdout",
          "text": [
            "Saving Oroville_WML(Sample),.csv to Oroville_WML(Sample),.csv\n",
            "Saving Shasta_WML(Sample),.csv to Shasta_WML(Sample),.csv\n",
            "Saving Sonoma_WML(Sample),.csv to Sonoma_WML(Sample),.csv\n"
          ]
        }
      ],
      "source": [
        "from google.colab import files\n",
        "uploaded = files.upload()\n"
      ]
    },
    {
      "cell_type": "code",
      "source": [
        "import pandas as pd\n",
        "\n",
        "# Load the CSV files\n",
        "oroville_data = pd.read_csv('Oroville_WML(Sample),.csv')\n",
        "shasta_data = pd.read_csv('Shasta_WML(Sample),.csv')\n",
        "sonoma_data = pd.read_csv('Sonoma_WML(Sample),.csv')\n",
        "\n",
        "# View the first few rows of each reservoir dataset\n",
        "print(oroville_data.head())\n",
        "print(shasta_data.head())\n",
        "print(sonoma_data.head())\n"
      ],
      "metadata": {
        "colab": {
          "base_uri": "https://localhost:8080/"
        },
        "id": "s0H609b4JchI",
        "outputId": "504a601d-da6a-4998-d75c-9596362c48df"
      },
      "execution_count": 3,
      "outputs": [
        {
          "output_type": "stream",
          "name": "stdout",
          "text": [
            "        Date   TAF\n",
            "0  9/29/2024  2000\n",
            "1  9/30/2024  2001\n",
            "2  10/1/2024  1999\n",
            "3  10/2/2024  2000\n",
            "4  10/5/2024  2000\n",
            "        Date   TAF\n",
            "0  9/29/2024  2720\n",
            "1  9/30/2024  2727\n",
            "2  10/1/2024  2721\n",
            "3  10/2/2024  2727\n",
            "4  10/5/2024  2722\n",
            "        Date  TAF\n",
            "0  9/29/2024  192\n",
            "1  9/30/2024  193\n",
            "2  10/1/2024  192\n",
            "3  10/2/2024  194\n",
            "4  10/5/2024  193\n"
          ]
        }
      ]
    },
    {
      "cell_type": "code",
      "source": [
        "# Convert data to JSON for MQTT messages\n",
        "oroville_json = oroville_data.to_dict(orient='records')\n",
        "shasta_json = shasta_data.to_dict(orient='records')\n",
        "sonoma_json = sonoma_data.to_dict(orient='records')\n",
        "\n",
        "# Simulate MQTT topics with JSON messages\n",
        "mqtt_messages = {\n",
        "    \"OROVILLE/WML\": oroville_json,\n",
        "    \"SHASTA/WML\": shasta_json,\n",
        "    \"SONOMA/WML\": sonoma_json\n",
        "}\n"
      ],
      "metadata": {
        "id": "tj-Zpt0vJlfP"
      },
      "execution_count": 4,
      "outputs": []
    },
    {
      "cell_type": "code",
      "source": [
        "from datetime import datetime\n",
        "from collections import defaultdict\n",
        "\n",
        "# Function to aggregate data and generate a daily report\n",
        "def generate_daily_summary(mqtt_data):\n",
        "    daily_summary = defaultdict(lambda: {'Oroville': None, 'Shasta': None, 'Sonoma': None, 'Total_TAF': 0})\n",
        "\n",
        "    for reservoir, data in mqtt_data.items():\n",
        "        reservoir_name = reservoir.split('/')[0].capitalize()  # Extract reservoir name\n",
        "\n",
        "        for entry in data:\n",
        "            date = datetime.strptime(entry['Date'], '%m/%d/%Y').strftime('%Y-%m-%d')\n",
        "            taf_value = entry['TAF']\n",
        "            daily_summary[date][reservoir_name] = taf_value\n",
        "            daily_summary[date]['Total_TAF'] += taf_value\n",
        "\n",
        "    # Convert to list format for display\n",
        "    report = [{'Date': date, **values} for date, values in sorted(daily_summary.items())]\n",
        "    return report\n",
        "\n",
        "# Generate the report\n",
        "daily_summary_report = generate_daily_summary(mqtt_messages)\n"
      ],
      "metadata": {
        "id": "rUwnLEzVJ7Kn"
      },
      "execution_count": 5,
      "outputs": []
    },
    {
      "cell_type": "code",
      "source": [
        "# Display the report as a DataFrame\n",
        "daily_summary_df = pd.DataFrame(daily_summary_report)\n",
        "print(daily_summary_df)\n"
      ],
      "metadata": {
        "colab": {
          "base_uri": "https://localhost:8080/"
        },
        "id": "DC3IpY8qJ-f0",
        "outputId": "38c74edd-d400-449c-8321-8cbae4828efb"
      },
      "execution_count": 6,
      "outputs": [
        {
          "output_type": "stream",
          "name": "stdout",
          "text": [
            "         Date  Oroville  Shasta  Sonoma  Total_TAF\n",
            "0  2024-09-29      2000    2720     192       4912\n",
            "1  2024-09-30      2001    2727     193       4921\n",
            "2  2024-10-01      1999    2721     192       4912\n",
            "3  2024-10-02      2000    2727     194       4921\n",
            "4  2024-10-04      2000    2721     191       4912\n",
            "5  2024-10-05      2000    2727     193       9835\n",
            "6  2024-10-06      2000    2726     192       4918\n",
            "7  2024-10-07      2000    2727     192       4919\n"
          ]
        }
      ]
    },
    {
      "cell_type": "code",
      "source": [
        "# Save as CSV\n",
        "daily_summary_df.to_csv('Daily_WML_Summary_Report.csv', index=False)\n",
        "\n",
        "# Save as JSON\n",
        "daily_summary_df.to_json('Daily_WML_Summary_Report.json', orient='records')\n"
      ],
      "metadata": {
        "id": "c5999n9xKArF"
      },
      "execution_count": 7,
      "outputs": []
    },
    {
      "cell_type": "code",
      "source": [],
      "metadata": {
        "id": "FXQZoezhKDMx"
      },
      "execution_count": null,
      "outputs": []
    }
  ]
}